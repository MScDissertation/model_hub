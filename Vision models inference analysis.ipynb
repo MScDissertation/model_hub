{
 "cells": [
  {
   "cell_type": "markdown",
   "metadata": {},
   "source": [
    "## Computational complexity (FLOPs) of algorithms, accuracy and energy consumption\n",
    "\n",
    "Pytorch pre-trained models used for inference \\\n",
    "Energy consumption is measured using power monitor. \\\n",
    "10000 inferences on same image \\\n",
    "Code for running inference in <https://github.com/MScDisseration/model_hub/tree/master/Inference>\n",
    "\n",
    "In order to get FLOP - used the pytorch module for profiling https://github.com/Lyken17/pytorch-OpCounter that returns the parameters and the MACs (multiply accumulate operation). \\\n",
    "MAC : a <- a + (b x c)\n",
    "This module collects all the multiply operations and FLOPs is approximated to be double of MAC to account for other operations like add and divide. https://github.com/Lyken17/pytorch-OpCounter/tree/master/benchmark#macs-flops-what-is-the-difference  \n",
    "Code in <https://github.com/MScDisseration/model_hub/blob/master/models.py>\n"
   ]
  },
  {
   "cell_type": "code",
   "execution_count": 1,
   "metadata": {},
   "outputs": [],
   "source": [
    "import numpy as np\n",
    "import pandas as pd\n",
    "import matplotlib as mpl\n",
    "import matplotlib.pyplot as plt\n",
    "import seaborn as sns\n",
    "from datetime import datetime\n",
    "from datetime import timedelta\n",
    "from scipy import stats\n",
    "from sklearn import metrics\n",
    "\n",
    "from matplotlib import cm\n",
    "from adjustText import adjust_text\n",
    "%matplotlib inline\n",
    "%config InlineBackend.figure_format='retina'\n",
    "\n",
    "mpl.rcParams['savefig.dpi'] = 300\n",
    "mpl.rcParams['font.size'] = 12\n",
    "\n",
    "plt.style.use('tableau-colorblind10')"
   ]
  },
  {
   "cell_type": "code",
   "execution_count": 2,
   "metadata": {},
   "outputs": [],
   "source": [
    "url = 'logs/models.txt'\n",
    "df = pd.read_csv(url)"
   ]
  },
  {
   "cell_type": "code",
   "execution_count": 3,
   "metadata": {},
   "outputs": [
    {
     "data": {
      "text/html": [
       "<div>\n",
       "<style scoped>\n",
       "    .dataframe tbody tr th:only-of-type {\n",
       "        vertical-align: middle;\n",
       "    }\n",
       "\n",
       "    .dataframe tbody tr th {\n",
       "        vertical-align: top;\n",
       "    }\n",
       "\n",
       "    .dataframe thead th {\n",
       "        text-align: right;\n",
       "    }\n",
       "</style>\n",
       "<table border=\"1\" class=\"dataframe\">\n",
       "  <thead>\n",
       "    <tr style=\"text-align: right;\">\n",
       "      <th></th>\n",
       "      <th>macs</th>\n",
       "      <th>parameters</th>\n",
       "    </tr>\n",
       "  </thead>\n",
       "  <tbody>\n",
       "    <tr>\n",
       "      <th>count</th>\n",
       "      <td>3.500000e+01</td>\n",
       "      <td>3.500000e+01</td>\n",
       "    </tr>\n",
       "    <tr>\n",
       "      <th>mean</th>\n",
       "      <td>6.351510e+09</td>\n",
       "      <td>5.052139e+07</td>\n",
       "    </tr>\n",
       "    <tr>\n",
       "      <th>std</th>\n",
       "      <td>6.685961e+09</td>\n",
       "      <td>5.508621e+07</td>\n",
       "    </tr>\n",
       "    <tr>\n",
       "      <th>min</th>\n",
       "      <td>4.252426e+07</td>\n",
       "      <td>1.235496e+06</td>\n",
       "    </tr>\n",
       "    <tr>\n",
       "      <th>25%</th>\n",
       "      <td>5.659043e+08</td>\n",
       "      <td>5.332784e+06</td>\n",
       "    </tr>\n",
       "    <tr>\n",
       "      <th>50%</th>\n",
       "      <td>4.111515e+09</td>\n",
       "      <td>2.383457e+07</td>\n",
       "    </tr>\n",
       "    <tr>\n",
       "      <th>75%</th>\n",
       "      <td>1.133300e+10</td>\n",
       "      <td>1.078390e+08</td>\n",
       "    </tr>\n",
       "    <tr>\n",
       "      <th>max</th>\n",
       "      <td>2.279560e+10</td>\n",
       "      <td>1.436782e+08</td>\n",
       "    </tr>\n",
       "  </tbody>\n",
       "</table>\n",
       "</div>"
      ],
      "text/plain": [
       "               macs    parameters\n",
       "count  3.500000e+01  3.500000e+01\n",
       "mean   6.351510e+09  5.052139e+07\n",
       "std    6.685961e+09  5.508621e+07\n",
       "min    4.252426e+07  1.235496e+06\n",
       "25%    5.659043e+08  5.332784e+06\n",
       "50%    4.111515e+09  2.383457e+07\n",
       "75%    1.133300e+10  1.078390e+08\n",
       "max    2.279560e+10  1.436782e+08"
      ]
     },
     "execution_count": 3,
     "metadata": {},
     "output_type": "execute_result"
    }
   ],
   "source": [
    "df.describe()"
   ]
  },
  {
   "cell_type": "code",
   "execution_count": 4,
   "metadata": {},
   "outputs": [],
   "source": [
    "df['FLOPS'] = df['macs'] * 2\n",
    "df['GFLOPS'] = (df['macs'] * 2) / (10 ** 9) \n",
    "df['TFLOPS'] = (df['macs'] * 2) / (10 ** 12)\n",
    "df['Params(Million)'] = df['parameters'] / (10 ** 6)\n",
    "df['Log'] = np.log(df['FLOPS'])\n",
    "df['GFLOPS_log'] = np.log(df['GFLOPS'])\n",
    "df['Training 1 epoch(pfs-days)'] = df['GFLOPS'] * 2 * 3 * (1.2 * (10 ** 6))"
   ]
  },
  {
   "cell_type": "code",
   "execution_count": 5,
   "metadata": {},
   "outputs": [
    {
     "name": "stdout",
     "output_type": "stream",
     "text": [
      "35\n"
     ]
    },
    {
     "data": {
      "text/html": [
       "<div>\n",
       "<style scoped>\n",
       "    .dataframe tbody tr th:only-of-type {\n",
       "        vertical-align: middle;\n",
       "    }\n",
       "\n",
       "    .dataframe tbody tr th {\n",
       "        vertical-align: top;\n",
       "    }\n",
       "\n",
       "    .dataframe thead th {\n",
       "        text-align: right;\n",
       "    }\n",
       "</style>\n",
       "<table border=\"1\" class=\"dataframe\">\n",
       "  <thead>\n",
       "    <tr style=\"text-align: right;\">\n",
       "      <th></th>\n",
       "      <th>model</th>\n",
       "      <th>macs</th>\n",
       "      <th>parameters</th>\n",
       "      <th>FLOPS</th>\n",
       "      <th>GFLOPS</th>\n",
       "      <th>TFLOPS</th>\n",
       "      <th>Params(Million)</th>\n",
       "      <th>Log</th>\n",
       "      <th>GFLOPS_log</th>\n",
       "      <th>Training 1 epoch(pfs-days)</th>\n",
       "    </tr>\n",
       "  </thead>\n",
       "  <tbody>\n",
       "    <tr>\n",
       "      <th>0</th>\n",
       "      <td>alexnet</td>\n",
       "      <td>7.146919e+08</td>\n",
       "      <td>61100840.0</td>\n",
       "      <td>1.429384e+09</td>\n",
       "      <td>1.429384</td>\n",
       "      <td>0.001429</td>\n",
       "      <td>61.100840</td>\n",
       "      <td>21.080509</td>\n",
       "      <td>0.357243</td>\n",
       "      <td>1.029156e+07</td>\n",
       "    </tr>\n",
       "    <tr>\n",
       "      <th>1</th>\n",
       "      <td>densenet121</td>\n",
       "      <td>2.865672e+09</td>\n",
       "      <td>7978856.0</td>\n",
       "      <td>5.731344e+09</td>\n",
       "      <td>5.731344</td>\n",
       "      <td>0.005731</td>\n",
       "      <td>7.978856</td>\n",
       "      <td>22.469216</td>\n",
       "      <td>1.745950</td>\n",
       "      <td>4.126568e+07</td>\n",
       "    </tr>\n",
       "    <tr>\n",
       "      <th>2</th>\n",
       "      <td>densenet161</td>\n",
       "      <td>7.787013e+09</td>\n",
       "      <td>28681000.0</td>\n",
       "      <td>1.557403e+10</td>\n",
       "      <td>15.574026</td>\n",
       "      <td>0.015574</td>\n",
       "      <td>28.681000</td>\n",
       "      <td>23.468870</td>\n",
       "      <td>2.745605</td>\n",
       "      <td>1.121330e+08</td>\n",
       "    </tr>\n",
       "    <tr>\n",
       "      <th>3</th>\n",
       "      <td>densenet169</td>\n",
       "      <td>3.398071e+09</td>\n",
       "      <td>14149480.0</td>\n",
       "      <td>6.796142e+09</td>\n",
       "      <td>6.796142</td>\n",
       "      <td>0.006796</td>\n",
       "      <td>14.149480</td>\n",
       "      <td>22.639621</td>\n",
       "      <td>1.916355</td>\n",
       "      <td>4.893222e+07</td>\n",
       "    </tr>\n",
       "    <tr>\n",
       "      <th>4</th>\n",
       "      <td>densenet201</td>\n",
       "      <td>4.340971e+09</td>\n",
       "      <td>20013928.0</td>\n",
       "      <td>8.681942e+09</td>\n",
       "      <td>8.681942</td>\n",
       "      <td>0.008682</td>\n",
       "      <td>20.013928</td>\n",
       "      <td>22.884511</td>\n",
       "      <td>2.161245</td>\n",
       "      <td>6.250998e+07</td>\n",
       "    </tr>\n",
       "  </tbody>\n",
       "</table>\n",
       "</div>"
      ],
      "text/plain": [
       "         model          macs  parameters         FLOPS     GFLOPS    TFLOPS  \\\n",
       "0      alexnet  7.146919e+08  61100840.0  1.429384e+09   1.429384  0.001429   \n",
       "1  densenet121  2.865672e+09   7978856.0  5.731344e+09   5.731344  0.005731   \n",
       "2  densenet161  7.787013e+09  28681000.0  1.557403e+10  15.574026  0.015574   \n",
       "3  densenet169  3.398071e+09  14149480.0  6.796142e+09   6.796142  0.006796   \n",
       "4  densenet201  4.340971e+09  20013928.0  8.681942e+09   8.681942  0.008682   \n",
       "\n",
       "   Params(Million)        Log  GFLOPS_log  Training 1 epoch(pfs-days)  \n",
       "0        61.100840  21.080509    0.357243                1.029156e+07  \n",
       "1         7.978856  22.469216    1.745950                4.126568e+07  \n",
       "2        28.681000  23.468870    2.745605                1.121330e+08  \n",
       "3        14.149480  22.639621    1.916355                4.893222e+07  \n",
       "4        20.013928  22.884511    2.161245                6.250998e+07  "
      ]
     },
     "execution_count": 5,
     "metadata": {},
     "output_type": "execute_result"
    }
   ],
   "source": [
    "print(df.GFLOPS.count())\n",
    "df.head()"
   ]
  },
  {
   "cell_type": "code",
   "execution_count": 6,
   "metadata": {},
   "outputs": [
    {
     "name": "stdout",
     "output_type": "stream",
     "text": [
      "29\n"
     ]
    }
   ],
   "source": [
    "url = \"logs/accuracy.csv\" ##top 1 and top 5 error\n",
    "df_accuracy = pd.read_csv(url)\n",
    "print(df_accuracy.top1.count())"
   ]
  },
  {
   "cell_type": "code",
   "execution_count": 7,
   "metadata": {},
   "outputs": [],
   "source": [
    "merge_df = df.merge(df_accuracy, on='model')"
   ]
  },
  {
   "cell_type": "code",
   "execution_count": 8,
   "metadata": {},
   "outputs": [
    {
     "name": "stdout",
     "output_type": "stream",
     "text": [
      "29\n"
     ]
    },
    {
     "data": {
      "text/html": [
       "<div>\n",
       "<style scoped>\n",
       "    .dataframe tbody tr th:only-of-type {\n",
       "        vertical-align: middle;\n",
       "    }\n",
       "\n",
       "    .dataframe tbody tr th {\n",
       "        vertical-align: top;\n",
       "    }\n",
       "\n",
       "    .dataframe thead th {\n",
       "        text-align: right;\n",
       "    }\n",
       "</style>\n",
       "<table border=\"1\" class=\"dataframe\">\n",
       "  <thead>\n",
       "    <tr style=\"text-align: right;\">\n",
       "      <th></th>\n",
       "      <th>model</th>\n",
       "      <th>macs</th>\n",
       "      <th>parameters</th>\n",
       "      <th>FLOPS</th>\n",
       "      <th>GFLOPS</th>\n",
       "      <th>TFLOPS</th>\n",
       "      <th>Params(Million)</th>\n",
       "      <th>Log</th>\n",
       "      <th>GFLOPS_log</th>\n",
       "      <th>Training 1 epoch(pfs-days)</th>\n",
       "      <th>top1</th>\n",
       "      <th>top5</th>\n",
       "    </tr>\n",
       "  </thead>\n",
       "  <tbody>\n",
       "    <tr>\n",
       "      <th>0</th>\n",
       "      <td>alexnet</td>\n",
       "      <td>7.146919e+08</td>\n",
       "      <td>61100840.0</td>\n",
       "      <td>1.429384e+09</td>\n",
       "      <td>1.429384</td>\n",
       "      <td>0.001429</td>\n",
       "      <td>61.100840</td>\n",
       "      <td>21.080509</td>\n",
       "      <td>0.357243</td>\n",
       "      <td>1.029156e+07</td>\n",
       "      <td>43.45</td>\n",
       "      <td>20.91</td>\n",
       "    </tr>\n",
       "    <tr>\n",
       "      <th>1</th>\n",
       "      <td>densenet121</td>\n",
       "      <td>2.865672e+09</td>\n",
       "      <td>7978856.0</td>\n",
       "      <td>5.731344e+09</td>\n",
       "      <td>5.731344</td>\n",
       "      <td>0.005731</td>\n",
       "      <td>7.978856</td>\n",
       "      <td>22.469216</td>\n",
       "      <td>1.745950</td>\n",
       "      <td>4.126568e+07</td>\n",
       "      <td>25.35</td>\n",
       "      <td>7.83</td>\n",
       "    </tr>\n",
       "    <tr>\n",
       "      <th>2</th>\n",
       "      <td>densenet161</td>\n",
       "      <td>7.787013e+09</td>\n",
       "      <td>28681000.0</td>\n",
       "      <td>1.557403e+10</td>\n",
       "      <td>15.574026</td>\n",
       "      <td>0.015574</td>\n",
       "      <td>28.681000</td>\n",
       "      <td>23.468870</td>\n",
       "      <td>2.745605</td>\n",
       "      <td>1.121330e+08</td>\n",
       "      <td>22.35</td>\n",
       "      <td>6.20</td>\n",
       "    </tr>\n",
       "    <tr>\n",
       "      <th>3</th>\n",
       "      <td>densenet169</td>\n",
       "      <td>3.398071e+09</td>\n",
       "      <td>14149480.0</td>\n",
       "      <td>6.796142e+09</td>\n",
       "      <td>6.796142</td>\n",
       "      <td>0.006796</td>\n",
       "      <td>14.149480</td>\n",
       "      <td>22.639621</td>\n",
       "      <td>1.916355</td>\n",
       "      <td>4.893222e+07</td>\n",
       "      <td>24.00</td>\n",
       "      <td>7.00</td>\n",
       "    </tr>\n",
       "    <tr>\n",
       "      <th>4</th>\n",
       "      <td>densenet201</td>\n",
       "      <td>4.340971e+09</td>\n",
       "      <td>20013928.0</td>\n",
       "      <td>8.681942e+09</td>\n",
       "      <td>8.681942</td>\n",
       "      <td>0.008682</td>\n",
       "      <td>20.013928</td>\n",
       "      <td>22.884511</td>\n",
       "      <td>2.161245</td>\n",
       "      <td>6.250998e+07</td>\n",
       "      <td>22.80</td>\n",
       "      <td>6.43</td>\n",
       "    </tr>\n",
       "  </tbody>\n",
       "</table>\n",
       "</div>"
      ],
      "text/plain": [
       "         model          macs  parameters         FLOPS     GFLOPS    TFLOPS  \\\n",
       "0      alexnet  7.146919e+08  61100840.0  1.429384e+09   1.429384  0.001429   \n",
       "1  densenet121  2.865672e+09   7978856.0  5.731344e+09   5.731344  0.005731   \n",
       "2  densenet161  7.787013e+09  28681000.0  1.557403e+10  15.574026  0.015574   \n",
       "3  densenet169  3.398071e+09  14149480.0  6.796142e+09   6.796142  0.006796   \n",
       "4  densenet201  4.340971e+09  20013928.0  8.681942e+09   8.681942  0.008682   \n",
       "\n",
       "   Params(Million)        Log  GFLOPS_log  Training 1 epoch(pfs-days)   top1  \\\n",
       "0        61.100840  21.080509    0.357243                1.029156e+07  43.45   \n",
       "1         7.978856  22.469216    1.745950                4.126568e+07  25.35   \n",
       "2        28.681000  23.468870    2.745605                1.121330e+08  22.35   \n",
       "3        14.149480  22.639621    1.916355                4.893222e+07  24.00   \n",
       "4        20.013928  22.884511    2.161245                6.250998e+07  22.80   \n",
       "\n",
       "    top5  \n",
       "0  20.91  \n",
       "1   7.83  \n",
       "2   6.20  \n",
       "3   7.00  \n",
       "4   6.43  "
      ]
     },
     "execution_count": 8,
     "metadata": {},
     "output_type": "execute_result"
    }
   ],
   "source": [
    "print(merge_df.top1.count())\n",
    "merge_df.head()"
   ]
  },
  {
   "cell_type": "code",
   "execution_count": 9,
   "metadata": {},
   "outputs": [],
   "source": [
    "merge_df['top1score'] = 100 - merge_df['top1']\n",
    "merge_df['top5score'] = 100 - merge_df['top5']"
   ]
  },
  {
   "cell_type": "code",
   "execution_count": null,
   "metadata": {},
   "outputs": [],
   "source": [
    "# needs citation https://github.com/Phlya/adjustText\n",
    "fig = plt.figure(figsize=(12,7))\n",
    "ax = fig.add_subplot(1, 1, 1)\n",
    "ax.set_xlabel(\"GFLOPs\")\n",
    "ax.set_ylabel(\"Top-1 Error (%)\")\n",
    "ax.set_title(\"GFLOPs vs Top-1 error\")\n",
    "\n",
    "plt.scatter(merge_df['GFLOPS'], merge_df['top1'])\n",
    "\n",
    "#merge_df[['GFLOPS','top1','model']].apply(lambda row: ax.text(*row),axis=1);\n",
    "texts = [ax.text(x, y, name,size='large') \n",
    "         for x, y, name in zip(merge_df['GFLOPS'],merge_df['top1'],merge_df['model'])]\n",
    "\n",
    "adjust_text(texts)\n",
    "plt.tight_layout()\n",
    "ax.figure.savefig('viz/top1error.png',dpi=300)"
   ]
  },
  {
   "cell_type": "code",
   "execution_count": null,
   "metadata": {},
   "outputs": [],
   "source": [
    "# needs citation https://github.com/Phlya/adjustText\n",
    "fig = plt.figure(figsize=(12,7))\n",
    "ax = fig.add_subplot(1, 1, 1)\n",
    "ax.set_xlabel(\"GFLOPs\")\n",
    "ax.set_ylabel(\"Top-5 Error (%)\")\n",
    "ax.set_title(\"GFLOPs vs Top-5 error\")\n",
    "# cmap = cm.get_cmap('winter')\n",
    "# c = merge_df['top5']\n",
    "plt.scatter(merge_df['GFLOPS'], merge_df['top5'])\n",
    "\n",
    "texts = [ax.text(x, y, name,size='large') \n",
    "         for x, y, name in zip(merge_df['GFLOPS'],merge_df['top5'],merge_df['model'])]\n",
    "# cbar = plt.colorbar()\n",
    "# cbar.set_label('Top-5 Error (%)')\n",
    "adjust_text(texts)\n",
    "plt.tight_layout()\n",
    "ax.figure.savefig('viz/top5error.png',dpi=300)"
   ]
  },
  {
   "cell_type": "code",
   "execution_count": null,
   "metadata": {},
   "outputs": [],
   "source": [
    "## in log scale\n",
    "fig = plt.figure(figsize=(12,7))\n",
    "ax = fig.add_subplot(1, 1, 1)\n",
    "ax.set_xlabel(\"FLOPs in log scale\")\n",
    "ax.set_ylabel(\"Top-5 Error (%)\")\n",
    "ax.set_title(\"FLOPs vs Top-5 error\")\n",
    "# cmap = cm.get_cmap('winter')\n",
    "# c = merge_df['top5']\n",
    "plt.scatter(merge_df['Log'], merge_df['top5'])\n",
    "\n",
    "texts = [ax.text(x, y, name,size='large') \n",
    "         for x, y, name in zip(merge_df['Log'],merge_df['top5'],merge_df['model'])]\n",
    "# cbar = plt.colorbar()\n",
    "# cbar.set_label('Top-5 Error (%)')\n",
    "adjust_text(texts)\n",
    "plt.tight_layout()\n",
    "ax.figure.savefig('viz/logFLOPStop5error.png',dpi=300)"
   ]
  },
  {
   "cell_type": "code",
   "execution_count": null,
   "metadata": {},
   "outputs": [],
   "source": [
    "# cmap1= cm.get_cmap('winter')\n",
    "# ax = merge_df.plot('GFLOPS', 'top5', kind='scatter',\n",
    "#         c=range(len(merge_df)),colormap=cmap1, figsize=(12,7),\n",
    "#                   title=\"GFLOPs vs Top-5 error\")\n",
    "# ax.set_xlabel(\"GFLOPs\")\n",
    "# ax.set_ylabel(\"Top-5 Error (%)\")\n",
    "# #merge_df[['GFLOPS','top5','model']].apply(lambda row: ax.text(*row),axis=1);\n",
    "# texts = [ax.text(x, y, name,size='large') \n",
    "#          for x, y, name in zip(merge_df['GFLOPS'],merge_df['top5'],merge_df['model'])]\n",
    "# adjust_text(texts)\n",
    "# plt.tight_layout()\n",
    "# ax.figure.savefig('viz/top5error.png',dpi=300)"
   ]
  },
  {
   "cell_type": "code",
   "execution_count": null,
   "metadata": {},
   "outputs": [],
   "source": [
    "x, y = merge_df['GFLOPS'],merge_df['top5'] \n",
    "slope, intercept, r_value, p_value, std_err = stats.linregress(x,y)\n",
    "print(f\"slope {slope} \\nintercept {intercept}\\nr_value {r_value}\\np_value {p_value}\\nstd_err {std_err}\")\n",
    "print(\"R squared\", r_value ** 2)\n",
    "r,p = stats.pearsonr(x, y)\n",
    "print(f\"Pearson's coeff {r}\\np-value {p}\")"
   ]
  },
  {
   "cell_type": "code",
   "execution_count": null,
   "metadata": {},
   "outputs": [],
   "source": [
    "plt.plot(x, y, 'o', label='original data')\n",
    "plt.plot(x, intercept + slope*x, 'r', label='fitted line')\n",
    "plt.legend()\n",
    "plt.show()"
   ]
  },
  {
   "cell_type": "markdown",
   "metadata": {},
   "source": [
    "The complexity measured in FLOPs does not necessarily improve the accuracy (or decrease the error).\n",
    "\n",
    "However, within the same architecture, e.g., VGG and resnet, the error decreases linearly with FLOPs"
   ]
  },
  {
   "cell_type": "code",
   "execution_count": null,
   "metadata": {},
   "outputs": [],
   "source": [
    "vggset = ['vgg11','vgg13','vgg16','vgg19','vgg11_bn','vgg13_bn','vgg16_bn','vgg19_bn']\n",
    "vgg = merge_df.loc[merge_df.model.isin(vggset)]\n",
    "ax = vgg.plot('GFLOPS', 'top5', kind='scatter',\n",
    "         figsize=(7,5))\n",
    "ax.set_xlim(5,50)\n",
    "ax.set_ylim(5,15)\n",
    "ax.set_xlabel(\"GFLOPs\")\n",
    "ax.set_ylabel(\"Top-5 Error (%)\")\n",
    "ax.set_title(\"Top-5 error for VGG architectures\")\n",
    "vgg[['GFLOPS','top5','model']].apply(lambda row: ax.text(*row,ha='left',va='bottom',size='large'),axis=1);\n",
    "plt.tight_layout()\n",
    "ax.figure.savefig(\"viz/vggtop5error.png\",dpi=300)"
   ]
  },
  {
   "cell_type": "code",
   "execution_count": null,
   "metadata": {},
   "outputs": [],
   "source": [
    "x, y = vgg['GFLOPS'],vgg['top5'] \n",
    "slope, intercept, r_value, p_value, std_err = stats.linregress(x,y)\n",
    "print(f\"slope {slope} \\nintercept {intercept}\\nr_value {r_value}\\np_value {p_value}\\nstd_err {std_err}\")\n",
    "print(\"R squared\", r_value ** 2)"
   ]
  },
  {
   "cell_type": "markdown",
   "metadata": {},
   "source": [
    "## Power monitor readings"
   ]
  },
  {
   "cell_type": "code",
   "execution_count": null,
   "metadata": {},
   "outputs": [],
   "source": [
    "df_reading = pd.read_csv(\"logs/power_reading_2.csv\")"
   ]
  },
  {
   "cell_type": "code",
   "execution_count": null,
   "metadata": {},
   "outputs": [],
   "source": [
    "df_reading['last_changed'] = pd.to_datetime(df_reading['last_changed'], errors='coerce')\n",
    "df_reading.dropna(subset=['last_changed'], inplace=True)\n",
    "df_reading.set_index('last_changed', inplace=True)"
   ]
  },
  {
   "cell_type": "code",
   "execution_count": null,
   "metadata": {},
   "outputs": [],
   "source": [
    "df_reading.tail()"
   ]
  },
  {
   "cell_type": "code",
   "execution_count": null,
   "metadata": {},
   "outputs": [],
   "source": [
    "# time intervals\n",
    "df_time_interval = pd.read_csv(\"logs/pm.csv\")"
   ]
  },
  {
   "cell_type": "code",
   "execution_count": null,
   "metadata": {},
   "outputs": [],
   "source": [
    "print(df_time_interval.model.count())\n",
    "df_time_interval.head()"
   ]
  },
  {
   "cell_type": "code",
   "execution_count": null,
   "metadata": {},
   "outputs": [],
   "source": [
    "df_time_interval['start_seconds']= [datetime.strptime(start_time, \"%Y-%m-%d %H:%M:%S.%f\") - timedelta(hours=1, minutes=0)\n",
    "                                  for start_time in df_time_interval.start_time]\n",
    "df_time_interval['end_seconds'] = [datetime.strptime(end_time, \"%Y-%m-%d %H:%M:%S.%f\") - timedelta(hours=1, minutes=0)\n",
    "                                for end_time in df_time_interval.end_time]\n",
    "df_time_interval['total_time'] = df_time_interval['end_seconds'] - df_time_interval['start_seconds']\n",
    "df_time_interval['total_time'] = df_time_interval['total_time'].apply(lambda x: x.total_seconds())\n",
    "df_time_interval.head()"
   ]
  },
  {
   "cell_type": "code",
   "execution_count": null,
   "metadata": {},
   "outputs": [],
   "source": [
    "df_time_interval['s_date'] = [x.date().strftime(\"%Y-%m-%d\") for x in df_time_interval[\"start_seconds\"]]\n",
    "df_time_interval['e_date'] = [x.date().strftime(\"%Y-%m-%d\") for x in df_time_interval[\"end_seconds\"]]\n",
    "df_time_interval['s_time'] = [x.time().strftime(\"%H:%M:%S\") for x in df_time_interval[\"start_seconds\"]]\n",
    "df_time_interval['e_time'] = [x.time().strftime(\"%H:%M:%S\") for x in df_time_interval[\"end_seconds\"]]\n",
    "df_time_interval.head()"
   ]
  },
  {
   "cell_type": "code",
   "execution_count": null,
   "metadata": {},
   "outputs": [],
   "source": [
    "# not used\n",
    "# def power_mean(s_date,e_date,s_time,e_time):\n",
    "#     subset_df = df_reading.loc[s_date:e_date].between_time(s_time, e_time)[['power_consumption']]\n",
    "#     return subset_df['power_consumption'].mean()\n"
   ]
  },
  {
   "cell_type": "code",
   "execution_count": null,
   "metadata": {},
   "outputs": [],
   "source": [
    "# get total power consumed \n",
    "# since power monitor reads at intervals of 3 seconds hence multiplying by 3\n",
    "def energy_consumption(s_date,e_date,s_time,e_time):\n",
    "    subset_df = df_reading.loc[s_date:e_date].between_time(s_time, e_time)[['power_consumption']]\n",
    "    return ((subset_df['power_consumption']).sum() * 3) #Joules "
   ]
  },
  {
   "cell_type": "code",
   "execution_count": null,
   "metadata": {},
   "outputs": [],
   "source": [
    "for index, row in df_time_interval.iterrows(): \n",
    "    df_time_interval.at[index,'empirical'] = energy_consumption(row['s_date'],row['e_date'],\n",
    "                                            row['s_time'],row['e_time'])"
   ]
  },
  {
   "cell_type": "code",
   "execution_count": null,
   "metadata": {},
   "outputs": [],
   "source": [
    "# for index, row in df_time_interval.iterrows(): \n",
    "#     df_time_interval.at[index,'mean_power'] = power_mean(row['s_date'],row['e_date'],\n",
    "#                                             row['s_time'],row['e_time'])"
   ]
  },
  {
   "cell_type": "code",
   "execution_count": null,
   "metadata": {},
   "outputs": [],
   "source": [
    "# df_time_interval['power'] = df_time_interval['mean_power'] * df_time_interval['total_time']\n",
    "df_time_interval.head()"
   ]
  },
  {
   "cell_type": "code",
   "execution_count": null,
   "metadata": {},
   "outputs": [],
   "source": [
    "new_df = df_time_interval.merge(merge_df, on='model')\n",
    "new_df.model.count()"
   ]
  },
  {
   "cell_type": "code",
   "execution_count": null,
   "metadata": {},
   "outputs": [],
   "source": [
    "new_df['empirical'] = new_df['empirical'] / (1000 * 3600) # Joules to kWh"
   ]
  },
  {
   "cell_type": "code",
   "execution_count": null,
   "metadata": {},
   "outputs": [],
   "source": [
    "fig, ax = plt.subplots()\n",
    "fig.set_size_inches(12, 7)\n",
    "ax.set_xlabel(\"GFLOPs\")\n",
    "ax.set_ylabel(\"Energy consumption (kWh)\")\n",
    "ax.set_title(\"GFLOPs vs energy consumption\")\n",
    "cmap = cm.get_cmap('winter')\n",
    "c = new_df['top5score']\n",
    "plt.ylim(min(new_df['empirical'])- 0.005,max(new_df['empirical'])+0.005)\n",
    "plt.scatter(new_df['GFLOPS'], new_df['empirical'],\n",
    "        c=c, cmap=cm.get_cmap('winter'))\n",
    "\n",
    "texts = [ax.text(x, y, name,size='large') \n",
    "         for x, y, name in zip(new_df['GFLOPS'],new_df['empirical'],new_df['model'])]\n",
    "cbar = plt.colorbar()\n",
    "cbar.set_label('Top-5 score')\n",
    "adjust_text(texts)\n",
    "plt.tight_layout()\n",
    "ax.figure.savefig('viz/inference_gflops_power.png',dpi=300)"
   ]
  },
  {
   "cell_type": "markdown",
   "metadata": {},
   "source": [
    "## Run a linear regression"
   ]
  },
  {
   "cell_type": "code",
   "execution_count": null,
   "metadata": {},
   "outputs": [],
   "source": [
    "from scipy import stats\n",
    "slope, intercept, r_value, p_value, std_err = stats.linregress(new_df['GFLOPS'],new_df['empirical'] )\n",
    "print(f\"slope {slope} \\nintercept {intercept}\\nr_value {r_value}\\np_value {p_value}\\nstd_err {std_err}\")\n",
    "print('R squared ', r_value ** 2)\n",
    "mse = metrics.mean_squared_error(new_df['GFLOPS'],new_df['empirical'])\n",
    "rmse = mse ** (1/2)\n",
    "mae = metrics.mean_absolute_error(new_df['GFLOPS'],new_df['empirical'])\n",
    "print(f\"rmse: {rmse} \\nmae: {mae}\")"
   ]
  },
  {
   "cell_type": "code",
   "execution_count": null,
   "metadata": {},
   "outputs": [],
   "source": [
    "x = new_df['GFLOPS']\n",
    "y = new_df['empirical']\n",
    "plt.figure(figsize=(7,5))\n",
    "plt.plot(x, y, 'o', label='original data')\n",
    "plt.plot(x, intercept + slope*x, 'r', label='fitted line')\n",
    "plt.xlabel(\"GFLOPs\")\n",
    "plt.ylabel(\"Energy (J)\")\n",
    "plt.title(\"GFLOPs vs energy consumption during inference\")\n",
    "plt.legend()\n",
    "plt.tight_layout()\n",
    "plt.savefig('viz/inference_gflops_power_fit.png',dpi=300)"
   ]
  },
  {
   "cell_type": "markdown",
   "metadata": {},
   "source": [
    "## removing DenseNet model from the set "
   ]
  },
  {
   "cell_type": "code",
   "execution_count": null,
   "metadata": {},
   "outputs": [],
   "source": [
    "df_minus_densenet = new_df[new_df['model'].str.match(r'(^densenet.*)') == False]\n",
    "df_minus_densenet.model.count()"
   ]
  },
  {
   "cell_type": "code",
   "execution_count": null,
   "metadata": {},
   "outputs": [],
   "source": [
    "from scipy import stats\n",
    "x = df_minus_densenet['GFLOPS']\n",
    "y = df_minus_densenet['empirical'] \n",
    "slope, intercept, r_value, p_value, std_err = stats.linregress(x,y)\n",
    "print(f\"slope {slope} \\nintercept {intercept}\\nr_value {r_value}\\np_value {p_value}\\nstd_err {std_err}\")\n",
    "print('R squared ', r_value ** 2)\n",
    "mse = metrics.mean_squared_error(x,y)\n",
    "rmse = mse ** (1/2)\n",
    "mae = metrics.mean_absolute_error(x, y)\n",
    "print(f\"rmse: {rmse} \\nmae: {mae}\")"
   ]
  },
  {
   "cell_type": "code",
   "execution_count": null,
   "metadata": {},
   "outputs": [],
   "source": [
    "x = df_minus_densenet['GFLOPS']\n",
    "y = df_minus_densenet['empirical']\n",
    "plt.figure(figsize=(7,5))\n",
    "plt.ylim(min(df_minus_densenet['empirical'])- 0.005,max(df_minus_densenet['empirical'])+0.005)\n",
    "plt.plot(x, y, 'o', label='original data')\n",
    "plt.plot(x, intercept + slope*x, 'r', label='fitted line')\n",
    "plt.xlabel(\"GFLOPs\")\n",
    "plt.ylabel(\"Energy (kWh)\")\n",
    "plt.title(\"GFLOPs vs Energy consumption\")\n",
    "plt.legend()\n",
    "plt.tight_layout()\n",
    "plt.savefig('viz/inference_fit_minus_densenet.png',dpi=300)"
   ]
  },
  {
   "cell_type": "markdown",
   "metadata": {},
   "source": [
    "## Testing within same architecture\n",
    "Selected VGG for testing "
   ]
  },
  {
   "cell_type": "code",
   "execution_count": null,
   "metadata": {},
   "outputs": [],
   "source": [
    "vgg_df = new_df.merge(vgg, on='model')"
   ]
  },
  {
   "cell_type": "code",
   "execution_count": null,
   "metadata": {},
   "outputs": [],
   "source": [
    "vgg_df.columns"
   ]
  },
  {
   "cell_type": "code",
   "execution_count": null,
   "metadata": {},
   "outputs": [],
   "source": [
    "#ax = vgg_df.plot('GFLOPS', 'power', kind='scatter')\n",
    "slope, intercept, r_value, p_value, std_err = stats.linregress(vgg_df['GFLOPS_y'],vgg_df['empirical'] )\n",
    "print(f\"slope {slope} \\nintercept {intercept}\\nr_value {r_value}\\np_value {p_value}\\nstd_err {std_err}\")\n",
    "print('R squared ', r_value ** 2)\n",
    "mse = metrics.mean_squared_error(x,y)\n",
    "rmse = mse ** (1/2)\n",
    "mae = metrics.mean_absolute_error(x, y)\n",
    "print(f\"rmse: {rmse} \\nmae: {mae}\")"
   ]
  },
  {
   "cell_type": "code",
   "execution_count": null,
   "metadata": {},
   "outputs": [],
   "source": [
    "x = vgg_df['GFLOPS_y']\n",
    "y = vgg_df['empirical']\n",
    "plt.ylim(min(vgg_df['empirical'])- 0.0005,max(vgg_df['empirical'])+0.0005)\n",
    "plt.plot(x, y, 'o', label='original data')\n",
    "plt.plot(x, intercept + slope*x, 'r', label='fitted line')\n",
    "plt.xlabel(\"GFLOPs\")\n",
    "plt.ylabel(\"Energy (kWh)\")\n",
    "plt.title(\"GFLOPs vs energy consumption for VGG architecture\")\n",
    "plt.legend()\n",
    "plt.tight_layout()\n",
    "plt.savefig('viz/vgg_gflops_power_fit.png',dpi=300)"
   ]
  },
  {
   "cell_type": "code",
   "execution_count": null,
   "metadata": {},
   "outputs": [],
   "source": []
  },
  {
   "cell_type": "markdown",
   "metadata": {},
   "source": [
    "## data for appendix"
   ]
  },
  {
   "cell_type": "code",
   "execution_count": null,
   "metadata": {},
   "outputs": [],
   "source": [
    "df_co2 = pd.read_csv(\"../BERT/results/co2data.csv\")\n",
    "uk_co2 = df_co2.loc[df_co2.country == 'United Kingdom'].impact.mean()\n",
    "\n",
    "new_df['CO2e'] = uk_co2 * df_time_interval['empirical'] / (1000 * 3600)\n",
    "new_df['kg CO2e'] = new_df['CO2e'] /1000"
   ]
  },
  {
   "cell_type": "code",
   "execution_count": null,
   "metadata": {},
   "outputs": [],
   "source": [
    "features = ['model','GFLOPS','empirical','kg CO2e','top1score','top5score']\n",
    "cv_inference = new_df[features]\n",
    "cv_inference.to_csv(\"results/cv_inference.csv\", index=False)"
   ]
  },
  {
   "cell_type": "code",
   "execution_count": null,
   "metadata": {},
   "outputs": [],
   "source": []
  }
 ],
 "metadata": {
  "kernelspec": {
   "display_name": "Python 3",
   "language": "python",
   "name": "python3"
  },
  "language_info": {
   "codemirror_mode": {
    "name": "ipython",
    "version": 3
   },
   "file_extension": ".py",
   "mimetype": "text/x-python",
   "name": "python",
   "nbconvert_exporter": "python",
   "pygments_lexer": "ipython3",
   "version": "3.7.5"
  }
 },
 "nbformat": 4,
 "nbformat_minor": 4
}
